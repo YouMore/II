{
 "cells": [
  {
   "cell_type": "markdown",
   "id": "8a2e5439",
   "metadata": {},
   "source": [
    "# 1.2 Пример"
   ]
  },
  {
   "cell_type": "markdown",
   "id": "259ca213",
   "metadata": {},
   "source": [
    "Выведите на печать и определите тип переменной."
   ]
  },
  {
   "cell_type": "code",
   "execution_count": 2,
   "id": "81d26688",
   "metadata": {},
   "outputs": [],
   "source": [
    "x = 3 + 5.2 * 7\n",
    "y = None\n",
    "z = 'a', 5, 12.345, (2,'b')\n",
    "df = [['Антонова Антонина', 34, 'ж'], ['Борисов Борис', 26, 'М']]\n",
    "A = {1, 'title', 2, 'content'}"
   ]
  },
  {
   "cell_type": "code",
   "execution_count": 3,
   "id": "d55cfee9",
   "metadata": {},
   "outputs": [
    {
     "name": "stdout",
     "output_type": "stream",
     "text": [
      "39.4   <class 'float'>\n",
      "None   <class 'NoneType'>\n",
      "('a', 5, 12.345, (2, 'b'))   <class 'tuple'>\n",
      "[['Антонова Антонина', 34, 'ж'], ['Борисов Борис', 26, 'М']]   <class 'list'>\n",
      "{1, 2, 'title', 'content'}   <class 'set'>\n"
     ]
    }
   ],
   "source": [
    "print(x,\" \", type(x))\n",
    "print(y,\" \", type(y))\n",
    "print(z,\" \", type(z))\n",
    "print(df,\" \", type(df))\n",
    "print(A,\" \", type(A))"
   ]
  },
  {
   "cell_type": "markdown",
   "id": "9aef5ba5",
   "metadata": {},
   "source": [
    "# 1.3 Задание"
   ]
  },
  {
   "cell_type": "markdown",
   "id": "a4bf4d8d",
   "metadata": {},
   "source": [
    "Выведите на печать и определите тип переменной."
   ]
  },
  {
   "cell_type": "code",
   "execution_count": 4,
   "id": "e6120268",
   "metadata": {},
   "outputs": [],
   "source": [
    "x = 5 >= 2\n",
    "A = {1, 3, 7, 8}\n",
    "B = {2, 4, 5, 10, 'apple'}\n",
    "C = A & B\n",
    "df = 'Антонова Антонина', 34,\n",
    "z = 'type'\n",
    "D = [1, 'title', 2, 'content']"
   ]
  },
  {
   "cell_type": "code",
   "execution_count": 5,
   "id": "0ffc7791",
   "metadata": {},
   "outputs": [
    {
     "name": "stdout",
     "output_type": "stream",
     "text": [
      "True   <class 'bool'>\n",
      "{8, 1, 3, 7}   <class 'set'>\n",
      "{2, 4, 5, 'apple', 10}   <class 'set'>\n",
      "set()   <class 'set'>\n",
      "('Антонова Антонина', 34)   <class 'tuple'>\n",
      "type   <class 'str'>\n",
      "[1, 'title', 2, 'content']   <class 'list'>\n"
     ]
    }
   ],
   "source": [
    "print(x,\" \", type(x))\n",
    "print(A,\" \", type(A))\n",
    "print(B,\" \", type(B))\n",
    "print(C,\" \", type(C))\n",
    "print(df,\" \", type(df))\n",
    "print(z,\" \", type(z))\n",
    "print(D,\" \", type(D))"
   ]
  },
  {
   "cell_type": "markdown",
   "id": "34270c45",
   "metadata": {},
   "source": [
    "# 2.2 Пример"
   ]
  },
  {
   "cell_type": "markdown",
   "id": "6e488c2c",
   "metadata": {},
   "source": [
    "Вывести на экран является ли переменная х положительной,\n",
    "отрицательной или равна нулю."
   ]
  },
  {
   "cell_type": "code",
   "execution_count": 6,
   "id": "733cc543",
   "metadata": {},
   "outputs": [],
   "source": [
    "x = 125"
   ]
  },
  {
   "cell_type": "code",
   "execution_count": 8,
   "id": "aacd06d1",
   "metadata": {},
   "outputs": [
    {
     "name": "stdout",
     "output_type": "stream",
     "text": [
      "x положительный\n"
     ]
    }
   ],
   "source": [
    "if x<0:\n",
    "    print(\"x отрицательный\")\n",
    "elif x==0:\n",
    "    print(\"x равен нулю\")\n",
    "else:\n",
    "    print(\"x положительный\")"
   ]
  },
  {
   "cell_type": "markdown",
   "id": "a5e1954c",
   "metadata": {},
   "source": [
    "# 2.3 Задание"
   ]
  },
  {
   "cell_type": "markdown",
   "id": "ecd49b67",
   "metadata": {},
   "source": [
    "Напишите код. Задается х, напечатать какому из интервалов\n",
    "принадлежит: (-infinity, -5), [-5, 5] или от (5, +infinity)"
   ]
  },
  {
   "cell_type": "code",
   "execution_count": 9,
   "id": "db0aa2c3",
   "metadata": {},
   "outputs": [],
   "source": [
    "x = 125"
   ]
  },
  {
   "cell_type": "code",
   "execution_count": 10,
   "id": "4317f753",
   "metadata": {},
   "outputs": [
    {
     "name": "stdout",
     "output_type": "stream",
     "text": [
      "x принадлежит (5, +infinity)\n"
     ]
    }
   ],
   "source": [
    "if x < -5:\n",
    "    print(\"x  принадлежит (-infinity, -5)\")\n",
    "elif -5 <= x <= 5:\n",
    "    print(\"x  принадлежит [-5, 5]\")\n",
    "else:\n",
    "    print(\"x принадлежит (5, +infinity)\")"
   ]
  },
  {
   "cell_type": "markdown",
   "id": "3a406031",
   "metadata": {},
   "source": [
    "# 3.2.1 Пример"
   ]
  },
  {
   "cell_type": "markdown",
   "id": "e7af1825",
   "metadata": {},
   "source": [
    "Вывести все числа от 1 до 10 с шагом 3."
   ]
  },
  {
   "cell_type": "code",
   "execution_count": 11,
   "id": "8a540822",
   "metadata": {},
   "outputs": [],
   "source": [
    "x = 1"
   ]
  },
  {
   "cell_type": "code",
   "execution_count": 12,
   "id": "61e24a7a",
   "metadata": {
    "scrolled": true
   },
   "outputs": [
    {
     "name": "stdout",
     "output_type": "stream",
     "text": [
      "1\n",
      "4\n",
      "7\n",
      "10\n"
     ]
    }
   ],
   "source": [
    "while x <= 10:\n",
    "    print(x)\n",
    "    x+=3"
   ]
  },
  {
   "cell_type": "markdown",
   "id": "d2fc7981",
   "metadata": {},
   "source": [
    "# 3.2.2 Пример"
   ]
  },
  {
   "cell_type": "markdown",
   "id": "f7201424",
   "metadata": {},
   "source": [
    "Задан список. Напечатать все элементы списка."
   ]
  },
  {
   "cell_type": "code",
   "execution_count": 13,
   "id": "1300e543",
   "metadata": {},
   "outputs": [],
   "source": [
    "models = ['KNN', 'decision tree', 'linear model']"
   ]
  },
  {
   "cell_type": "code",
   "execution_count": 14,
   "id": "8040b2b3",
   "metadata": {},
   "outputs": [
    {
     "name": "stdout",
     "output_type": "stream",
     "text": [
      "KNN\n",
      "decision tree\n",
      "linear model\n"
     ]
    }
   ],
   "source": [
    "for model in models:\n",
    "    print(model)"
   ]
  },
  {
   "cell_type": "markdown",
   "id": "847e105e",
   "metadata": {},
   "source": [
    "# 3.2.3 Пример "
   ]
  },
  {
   "cell_type": "markdown",
   "id": "c4722e09",
   "metadata": {},
   "source": [
    "Создать список от 1 до 99 с шагом 7"
   ]
  },
  {
   "cell_type": "code",
   "execution_count": 15,
   "id": "8a495591",
   "metadata": {},
   "outputs": [],
   "source": [
    "list_int = range(1, 100, 7)"
   ]
  },
  {
   "cell_type": "code",
   "execution_count": 16,
   "id": "770ac549",
   "metadata": {},
   "outputs": [
    {
     "name": "stdout",
     "output_type": "stream",
     "text": [
      "[1, 8, 15, 22, 29, 36, 43, 50, 57, 64, 71, 78, 85, 92, 99]\n"
     ]
    }
   ],
   "source": [
    "print(list(list_int))"
   ]
  },
  {
   "cell_type": "markdown",
   "id": "17213342",
   "metadata": {},
   "source": [
    "# 3.2.4 Пример"
   ]
  },
  {
   "cell_type": "markdown",
   "id": "1222897f",
   "metadata": {},
   "source": [
    "Вывести на экран числа от 1 до 105 с шагом 25, используя функцию\n",
    "range()"
   ]
  },
  {
   "cell_type": "code",
   "execution_count": 18,
   "id": "cd2e6a83",
   "metadata": {},
   "outputs": [
    {
     "name": "stdout",
     "output_type": "stream",
     "text": [
      "5\n",
      "30\n",
      "55\n",
      "80\n",
      "105\n"
     ]
    }
   ],
   "source": [
    "for i in range (5, 106, 25):\n",
    "    print(i)"
   ]
  },
  {
   "cell_type": "markdown",
   "id": "b2e81e25",
   "metadata": {},
   "source": [
    "# 3.2.5 Пример"
   ]
  },
  {
   "cell_type": "markdown",
   "id": "a3a1a66a",
   "metadata": {},
   "source": [
    "Срез. Необходимо получить каждый k-й элемент массива a, начиная с\n",
    "элемента с индексом i (включительно) и заканчивая элементом с\n",
    "индексом j (не включительно), c шагом 2. Или переставить все\n",
    "элементы в обратном порядке."
   ]
  },
  {
   "cell_type": "code",
   "execution_count": 19,
   "id": "bbfea410",
   "metadata": {},
   "outputs": [],
   "source": [
    "a = [1, 2, 3, 4, 5, 6, 7, 8, 9]"
   ]
  },
  {
   "cell_type": "code",
   "execution_count": 20,
   "id": "c96c270c",
   "metadata": {},
   "outputs": [
    {
     "name": "stdout",
     "output_type": "stream",
     "text": [
      "[2, 4, 6]\n",
      "[9, 8, 7, 6, 5, 4, 3, 2, 1]\n"
     ]
    }
   ],
   "source": [
    "b = a[1:7:2]\n",
    "c = a[::-1]\n",
    "print(b)\n",
    "print(c)"
   ]
  },
  {
   "cell_type": "markdown",
   "id": "f5c36fd7",
   "metadata": {},
   "source": [
    "# 3.3.1 Задание"
   ]
  },
  {
   "cell_type": "markdown",
   "id": "92806259",
   "metadata": {},
   "source": [
    "Выведите числа из примера на while (3.2.1) в обратном порядке."
   ]
  },
  {
   "cell_type": "code",
   "execution_count": 21,
   "id": "c175455f",
   "metadata": {},
   "outputs": [],
   "source": [
    "x = 10"
   ]
  },
  {
   "cell_type": "code",
   "execution_count": 22,
   "id": "330b2b55",
   "metadata": {},
   "outputs": [
    {
     "name": "stdout",
     "output_type": "stream",
     "text": [
      "10\n",
      "7\n",
      "4\n",
      "1\n"
     ]
    }
   ],
   "source": [
    "while x >= 1:\n",
    "    print(x)\n",
    "    x-=3"
   ]
  },
  {
   "cell_type": "markdown",
   "id": "8b89148d",
   "metadata": {},
   "source": [
    "#  3.3.2 Задание"
   ]
  },
  {
   "cell_type": "markdown",
   "id": "c5c9a8df",
   "metadata": {},
   "source": [
    "При решении задач машинного обучения часто в качестве объектов\n",
    "исследования выступает человек. Создайте список значимых\n",
    "характеристик (признаков), идентифицирующих человека. Выведите\n",
    "список на экран."
   ]
  },
  {
   "cell_type": "code",
   "execution_count": 23,
   "id": "992ae8ba",
   "metadata": {},
   "outputs": [],
   "source": [
    "human = ['Age', 'Weight', 'Height']"
   ]
  },
  {
   "cell_type": "code",
   "execution_count": 24,
   "id": "473e7579",
   "metadata": {},
   "outputs": [
    {
     "name": "stdout",
     "output_type": "stream",
     "text": [
      "Age\n",
      "Weight\n",
      "Height\n"
     ]
    }
   ],
   "source": [
    "for haracteristic in human:\n",
    "    print(haracteristic)"
   ]
  },
  {
   "cell_type": "markdown",
   "id": "3ccb3e82",
   "metadata": {},
   "source": [
    "# 3.3.3 Задание"
   ]
  },
  {
   "cell_type": "markdown",
   "id": "51915d10",
   "metadata": {},
   "source": [
    "Создать список чисел от 2 до 15 с шагом 1."
   ]
  },
  {
   "cell_type": "code",
   "execution_count": 25,
   "id": "3019c768",
   "metadata": {},
   "outputs": [],
   "source": [
    "list_int = range(2, 15, 1)"
   ]
  },
  {
   "cell_type": "code",
   "execution_count": 26,
   "id": "37f73f9c",
   "metadata": {},
   "outputs": [
    {
     "name": "stdout",
     "output_type": "stream",
     "text": [
      "[2, 3, 4, 5, 6, 7, 8, 9, 10, 11, 12, 13, 14]\n"
     ]
    }
   ],
   "source": [
    "print(list(list_int))"
   ]
  },
  {
   "cell_type": "markdown",
   "id": "9d6b3301",
   "metadata": {},
   "source": [
    "# 3.3.4 Задание"
   ]
  },
  {
   "cell_type": "markdown",
   "id": "11ec206b",
   "metadata": {},
   "source": [
    "Выведите числа из примера на for c функцией range() (3.2.4) в\n",
    "обратном порядке."
   ]
  },
  {
   "cell_type": "code",
   "execution_count": 30,
   "id": "ee61c90c",
   "metadata": {},
   "outputs": [
    {
     "name": "stdout",
     "output_type": "stream",
     "text": [
      "105\n",
      "80\n",
      "55\n",
      "30\n",
      "5\n"
     ]
    }
   ],
   "source": [
    "for i in range (105, 4, -25):\n",
    "    print(i)"
   ]
  },
  {
   "cell_type": "markdown",
   "id": "c5447445",
   "metadata": {},
   "source": [
    "# 3.3.5 Задание"
   ]
  },
  {
   "cell_type": "markdown",
   "id": "eb9279b1",
   "metadata": {},
   "source": [
    "Срез. Напишите код, который все элементы массива x с четными\n",
    "индексами переставит в обратном порядке. Т.е. если x = [0, 1, 2, 3, 4,\n",
    "5, 6, 7, 8, 9], то код должен сформировать [8, 1, 6, 3, 4, 5, 2, 7, 0, 9]."
   ]
  },
  {
   "cell_type": "code",
   "execution_count": 2,
   "id": "22654d57",
   "metadata": {},
   "outputs": [],
   "source": [
    "x = [0, 1, 2, 3, 4, 5, 6, 7, 8, 9]"
   ]
  },
  {
   "cell_type": "code",
   "execution_count": 3,
   "id": "9fab67c1",
   "metadata": {},
   "outputs": [
    {
     "name": "stdout",
     "output_type": "stream",
     "text": [
      "[8, 1, 6, 3, 4, 5, 2, 7, 0, 9]\n"
     ]
    }
   ],
   "source": [
    "x[0::2] = reversed(x[0::2])\n",
    "print(x)"
   ]
  },
  {
   "cell_type": "markdown",
   "id": "3700d41f",
   "metadata": {},
   "source": [
    "# 4.2.1 Пример "
   ]
  },
  {
   "cell_type": "markdown",
   "id": "f907d914",
   "metadata": {},
   "source": [
    "Рассчитать синус от е радиан и вывести результат на экран"
   ]
  },
  {
   "cell_type": "code",
   "execution_count": null,
   "id": "4d6b3fae",
   "metadata": {},
   "outputs": [],
   "source": [
    "import math as m\n",
    "print(m.sin(m.e))"
   ]
  },
  {
   "cell_type": "markdown",
   "id": "c16d4fae",
   "metadata": {},
   "source": [
    "# 4.2.2 Пример"
   ]
  },
  {
   "cell_type": "markdown",
   "id": "9e5bd8f2",
   "metadata": {},
   "source": [
    "Для функции sin(𝑥𝑒^cos(𝑥))на интервале [0;10] с шагом 0,05 построить график функции, закрасить площадь под ним и вычислить значение этой площадию. Для вычисления площади воспользуйте функции trapz(), вычисляющей интеграл по правилу трапеции. Для ее корректной работы необходимо подключить следующие библиотеки:\n",
    "from scipy.integrate import simps\n",
    "from numpy import trapz"
   ]
  },
  {
   "cell_type": "code",
   "execution_count": 22,
   "id": "b4a1faeb",
   "metadata": {},
   "outputs": [
    {
     "name": "stdout",
     "output_type": "stream",
     "text": [
      "73.50792907748662\n"
     ]
    },
    {
     "data": {
      "image/png": "[encoded data removed]",
      "text/plain": [
       "<Figure size 640x480 with 1 Axes>"
      ]
     },
     "metadata": {},
     "output_type": "display_data"
    }
   ],
   "source": [
    "import numpy as np\n",
    "import matplotlib.pyplot as plt\n",
    "from scipy.integrate import simps\n",
    "from numpy import trapz\n",
    "x = np.arange(0.0, 10, 0.1)\n",
    "y = np.abs(np.sin(x*np.exp(np.cos(x))))\n",
    "plt. grid()\n",
    "plt.plot(x, y, c = \"r\")\n",
    "plt.fill_between(x, y)\n",
    "area = trapz(y)\n",
    "print (area)"
   ]
  },
  {
   "cell_type": "markdown",
   "id": "efa9a8ac",
   "metadata": {},
   "source": [
    "# 4.2.3 Пример"
   ]
  },
  {
   "cell_type": "markdown",
   "id": "043ae9b6",
   "metadata": {},
   "source": [
    "Дано некоторое распределение оценок в группе за экзамен. Нарисовать\n",
    "круговую и точечную диаграммы распределения. "
   ]
  },
  {
   "cell_type": "code",
   "execution_count": 26,
   "id": "fb471e61",
   "metadata": {
    "scrolled": false
   },
   "outputs": [
    {
     "data": {
      "image/png": "[encoded data removed]",
      "text/plain": [
       "<Figure size 1000x700 with 1 Axes>"
      ]
     },
     "metadata": {},
     "output_type": "display_data"
    },
    {
     "data": {
      "text/plain": [
       "<matplotlib.collections.PathCollection at 0x21f3986dd60>"
      ]
     },
     "execution_count": 26,
     "metadata": {},
     "output_type": "execute_result"
    },
    {
     "data": {
      "image/png": "[encoded data removed]",
      "text/plain": [
       "<Figure size 640x480 with 1 Axes>"
      ]
     },
     "metadata": {},
     "output_type": "display_data"
    }
   ],
   "source": [
    "from matplotlib import pyplot as plt\n",
    "import numpy as np\n",
    "\n",
    "marks = ['Неуд', 'Удовл', 'Хор', 'Отл']\n",
    "\n",
    "data = [3, 7, 8, 4]\n",
    "fig = plt.figure(figsize =(10, 7))\n",
    "plt.pie(data, labels = marks)\n",
    "plt.show()\n",
    "plt.grid()\n",
    "plt.scatter (marks,data)"
   ]
  },
  {
   "cell_type": "markdown",
   "id": "b24e460a",
   "metadata": {},
   "source": [
    "# 4.3.1 Задание"
   ]
  },
  {
   "cell_type": "markdown",
   "id": "cc9a5eff",
   "metadata": {},
   "source": [
    "Задайте массив случайных значений из интервала(0; 1).\n",
    "Рассчитайте средние и медианные значения для массива, сравните\n",
    "результаты, какие выводы можно сделать о значениях?\n",
    "Постройте точечную диаграмму рассения полученного ряда."
   ]
  },
  {
   "cell_type": "code",
   "execution_count": 28,
   "id": "967d9ac6",
   "metadata": {},
   "outputs": [
    {
     "name": "stdout",
     "output_type": "stream",
     "text": [
      "[0.5836133910177348, 0.49283898305111695, 0.6348590236553787, 0.6910715635627156, 0.5043435093089493, 0.7000409971234545, 0.383859600357224, 0.2116487779832502, 0.4824961773296388, 0.20857782862123442]\n",
      "0.4893349852010698\n",
      "0.49859124618003314\n"
     ]
    },
    {
     "data": {
      "text/plain": [
       "<matplotlib.collections.PathCollection at 0x21f3d82ea00>"
      ]
     },
     "execution_count": 28,
     "metadata": {},
     "output_type": "execute_result"
    },
    {
     "data": {
      "image/png": "[encoded data removed]",
      "text/plain": [
       "<Figure size 640x480 with 1 Axes>"
      ]
     },
     "metadata": {},
     "output_type": "display_data"
    }
   ],
   "source": [
    "import numpy as np\n",
    "import random\n",
    "import matplotlib.pyplot as plt\n",
    "y = [random.uniform(0, 1) for i in range(10)]\n",
    "x = ['1', '2', '3', '4', '5', '6', '7', '8', '9', '10']\n",
    "print(y)\n",
    "print(sum(y)/len(y))\n",
    "print(np.median(y))\n",
    "plt.grid()\n",
    "plt.scatter (x,y)"
   ]
  },
  {
   "cell_type": "markdown",
   "id": "4cb6f3f1",
   "metadata": {},
   "source": [
    "# 4.3.2 Задание"
   ]
  },
  {
   "cell_type": "markdown",
   "id": "31c5fd5e",
   "metadata": {},
   "source": [
    "Дана определенная функция\n",
    "Создать массив из 10 значений функции (𝑥, например, изменяется от 1 до 10). Выделить срез первой половины массива и построить графики для основного массива – линейный и для среза – точечный"
   ]
  },
  {
   "cell_type": "code",
   "execution_count": 1,
   "id": "89299f4a",
   "metadata": {},
   "outputs": [
    {
     "name": "stdout",
     "output_type": "stream",
     "text": [
      "[0, 5.798917496411, 9.89559082992602, 4.194572274398421, 3.9811767763428825, 4.092729058690511, 5.938653149530014, 8.115700200778333, 138.24401824876855, 7.917984524440516]\n",
      "[5.798917496411, 9.89559082992602, 4.194572274398421, 3.9811767763428825, 4.092729058690511]\n"
     ]
    },
    {
     "data": {
      "text/plain": [
       "<matplotlib.collections.PathCollection at 0x2f21ab90fd0>"
      ]
     },
     "execution_count": 1,
     "metadata": {},
     "output_type": "execute_result"
    },
    {
     "data": {
      "image/png": "[encoded data removed]",
      "text/plain": [
       "<Figure size 640x480 with 1 Axes>"
      ]
     },
     "metadata": {},
     "output_type": "display_data"
    }
   ],
   "source": [
    "from matplotlib import pyplot as plt\n",
    "import numpy as np\n",
    "import random\n",
    "import math\n",
    "\n",
    "y = [0]*10\n",
    "values = ['1','2','3','4','5','6','7','8','9','10']\n",
    "values_cut = ['1', '2', '3', '4','5']\n",
    "for x in range(1, 10):\n",
    "    y_1 = math.sqrt(1 + (math.pow(math.e,math.pow(x,0.5))) + math.cos(math.pow(x,2))) \n",
    "    y_2 = math.fabs(1 - math.pow(math.sin(x),3)) \n",
    "    y_3 = math.log(math.fabs(2*x))\n",
    "    y[x] = y_1 / y_2 + y_3\n",
    "y_cut = y[1:6]\n",
    "print(y)\n",
    "print(y_cut)\n",
    "plt.grid()\n",
    "plt.plot(values, y)\n",
    "plt.scatter(values_cut, y_cut)"
   ]
  },
  {
   "cell_type": "markdown",
   "id": "7a0febd4",
   "metadata": {},
   "source": [
    "# 4.3.3 Задание"
   ]
  },
  {
   "cell_type": "markdown",
   "id": "760ca18c",
   "metadata": {},
   "source": [
    "Дана функция |cos(𝑥𝑒^(cos(𝑥)+ln(𝑥+1)))| Построить график на\n",
    "интервале (0,10) с шагом 1 с заливкой площади и найти эту площадь\n",
    "под ним. Для вычисления площади воспользуйте функции trapz(),\n",
    "вычисляющей интеграл по правилу трапеции.\n",
    "Для ее корректной работы необходимо подключить следующие\n",
    "библиотеки:\n",
    "from scipy.integrate import simps\n",
    "from numpy import trapz"
   ]
  },
  {
   "cell_type": "code",
   "execution_count": 27,
   "id": "813fc930",
   "metadata": {},
   "outputs": [
    {
     "name": "stdout",
     "output_type": "stream",
     "text": [
      "6.260345875494747\n"
     ]
    },
    {
     "data": {
      "image/png": "[encoded data removed]",
      "text/plain": [
       "<Figure size 640x480 with 1 Axes>"
      ]
     },
     "metadata": {},
     "output_type": "display_data"
    }
   ],
   "source": [
    "import numpy as np\n",
    "import matplotlib.pyplot as plt\n",
    "from scipy.integrate import simps\n",
    "from numpy import trapz\n",
    "x = np.arange(0, 10, 1)\n",
    "y = np.abs(np.cos(x * np.exp(np.cos(x) + np.log(x+1))))\n",
    "plt. grid()\n",
    "plt.plot(x, y, c = \"r\")\n",
    "plt.fill_between(x, y)\n",
    "area = trapz(y)\n",
    "print (area)"
   ]
  },
  {
   "cell_type": "markdown",
   "id": "de6a31e7",
   "metadata": {},
   "source": [
    "# 4.3.4 Задание"
   ]
  },
  {
   "cell_type": "markdown",
   "id": "06dd178e",
   "metadata": {},
   "source": [
    "Откройте статистические данные по стоимости акций Apple,\n",
    "Microsoft, Google за 12 месяцев 2021 г. Постройте 3 графика на\n",
    "плоскости и оцените их динамику. Подумайте, как можно улучшить\n",
    "читаемость результатов.\n",
    "Для начальных данных допустимо использовать следующий ресурс:\n",
    "https://finance.yahoo.com"
   ]
  },
  {
   "cell_type": "code",
   "execution_count": 45,
   "id": "dfdc69eb",
   "metadata": {},
   "outputs": [
    {
     "data": {
      "text/plain": [
       "<matplotlib.legend.Legend at 0x21f3c655f70>"
      ]
     },
     "execution_count": 45,
     "metadata": {},
     "output_type": "execute_result"
    },
    {
     "data": {
      "image/png": "[encoded data removed]",
      "text/plain": [
       "<Figure size 640x480 with 1 Axes>"
      ]
     },
     "metadata": {},
     "output_type": "display_data"
    }
   ],
   "source": [
    "import numpy as np\n",
    "import matplotlib.pyplot as plt\n",
    "from numpy import trapz\n",
    "import math \n",
    "\n",
    "a_apple = [174.78, 165.12, 174.61, 157.65, 148.84, 136.72, 162.51, 157.22, 138.20, 153.34, 148.03, 129.93]\n",
    "a_microsoft = [310.98, 298.79, 308.31, 277.52, 271.87, 256.83, 280.74, 261.47, 232.90, 232.13, 255.14, 239.82]\n",
    "a_google = [135.70, 134.89, 139.65, 114.97, 114.04, 109.37, 116.64, 109.15, 96.15, 94.66, 101.45, 88.73]\n",
    "mon = [\"1\", \"2\", \"3\", \"4\", \"5\", \"6\", \"7\", \"8\", \"9\", \"10\", \"11\", \"12\"]\n",
    "plt.grid()\n",
    "plt.title(\"Share prices of Apple, Microsoft and Google\")\n",
    "plt.plot(mon, a_apple)\n",
    "plt.plot(mon, a_microsoft)\n",
    "plt.plot(mon, a_google)\n",
    "plt.xlabel(\"Months\", color='gray')\n",
    "plt.legend([\"Apple\", \"Microsoft\", \"Google\"])"
   ]
  },
  {
   "cell_type": "markdown",
   "id": "7ef61992",
   "metadata": {},
   "source": [
    "# 4.3.5 Задание"
   ]
  },
  {
   "cell_type": "markdown",
   "id": "64fd4901",
   "metadata": {},
   "source": [
    "Создайте простейший калькулятор, включающий основные действия\n",
    "для двух переменных ′ + ′, ′ − ′, ′ ∙ ′, ′ ÷ ′, а также вычисление\n",
    "следующих функций: 𝑒^𝑥+𝑦, sin(𝑥 + 𝑦) , cos(𝑥 + 𝑦) , 𝑥^𝑦."
   ]
  },
  {
   "cell_type": "code",
   "execution_count": null,
   "id": "a728df7b",
   "metadata": {},
   "outputs": [
    {
     "name": "stdout",
     "output_type": "stream",
     "text": [
      "Доступные действия: \n",
      "1 - x+y\n",
      "2 - x-y\n",
      "3 - x*y\n",
      "4 - x/y\n",
      "5 - e^(x+y)\n",
      "6 - sin(x+y)\n",
      "7 - cos(x+y)\n",
      "8 - x^y\n",
      "0 - exit\n",
      "Введите x: 5\n",
      "Введите y: 6\n",
      "Выберете действие: 3\n",
      "Ответ  30.0\n",
      "1 - x+y\n",
      "2 - x-y\n",
      "3 - x*y\n",
      "4 - x/y\n",
      "5 - e^(x+y)\n",
      "6 - sin(x+y)\n",
      "7 - cos(x+y)\n",
      "8 - x^y\n",
      "0 - exit\n",
      "Введите x: 5\n",
      "Введите y: 3\n",
      "Выберете действие: 8\n",
      "Ответ  125.0\n",
      "1 - x+y\n",
      "2 - x-y\n",
      "3 - x*y\n",
      "4 - x/y\n",
      "5 - e^(x+y)\n",
      "6 - sin(x+y)\n",
      "7 - cos(x+y)\n",
      "8 - x^y\n",
      "0 - exit\n"
     ]
    }
   ],
   "source": [
    "import math\n",
    "\n",
    "print(\"Доступные действия: \")\n",
    "while True:\n",
    "    print(\"1 - x+y\")\n",
    "    print(\"2 - x-y\")\n",
    "    print(\"3 - x*y\")\n",
    "    print(\"4 - x/y\")\n",
    "    print(\"5 - e^(x+y)\")\n",
    "    print(\"6 - sin(x+y)\")\n",
    "    print(\"7 - cos(x+y)\")\n",
    "    print(\"8 - x^y\")\n",
    "    print(\"0 - exit\")\n",
    "    x = float(input(\"Введите x: \"))\n",
    "    y = float(input(\"Введите y: \"))\n",
    "    act = int(input(\"Выберете действие: \"))\n",
    "    if act == 1:\n",
    "        print(\"Ответ \", x + y)\n",
    "    elif act == 2:\n",
    "        print(\"Ответ \", x - y)\n",
    "    elif act == 3:\n",
    "        print(\"Ответ \", x * y)\n",
    "    elif act == 4:\n",
    "        if y != 0:\n",
    "            print(\"Ответ \", x / y)\n",
    "        else:\n",
    "            print(\"На ноль делить нельзя \")\n",
    "    elif act == 5:\n",
    "        print(\"Ответ \", math.pow(m.e, x + y))\n",
    "    elif act == 6:\n",
    "        print(\"Ответ \", math.sin(x + y))\n",
    "    elif act == 7:\n",
    "        print(\"Ответ \", math.cos(x + y))\n",
    "    elif act == 8:\n",
    "        print(\"Ответ \", math.pow(x, y))\n",
    "    elif act == 0:\n",
    "        break"
   ]
  },
  {
   "cell_type": "code",
   "execution_count": null,
   "id": "150f2604",
   "metadata": {},
   "outputs": [],
   "source": []
  }
 ],
 "metadata": {
  "kernelspec": {
   "display_name": "Python 3 (ipykernel)",
   "language": "python",
   "name": "python3"
  },
  "language_info": {
   "codemirror_mode": {
    "name": "ipython",
    "version": 3
   },
   "file_extension": ".py",
   "mimetype": "text/x-python",
   "name": "python",
   "nbconvert_exporter": "python",
   "pygments_lexer": "ipython3",
   "version": "3.9.13"
  }
 },
 "nbformat": 4,
 "nbformat_minor": 5
}
